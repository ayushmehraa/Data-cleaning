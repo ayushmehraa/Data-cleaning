{
 "cells": [
  {
   "cell_type": "markdown",
   "id": "727f962e",
   "metadata": {},
   "source": [
    "# Character Encoding"
   ]
  },
  {
   "cell_type": "markdown",
   "id": "0fbc4f8c",
   "metadata": {},
   "source": [
    "# Get environment setup"
   ]
  },
  {
   "cell_type": "code",
   "execution_count": 2,
   "id": "981e9102",
   "metadata": {},
   "outputs": [],
   "source": [
    "# module we will use\n",
    "import pandas as pd\n",
    "import numpy as np\n",
    "\n",
    "# helpful charcter encoding module\n",
    "import chardet\n",
    "\n",
    "# set seed for reproducibility\n",
    "np.random.seed(0)"
   ]
  },
  {
   "cell_type": "code",
   "execution_count": null,
   "id": "405bf2d7",
   "metadata": {},
   "outputs": [],
   "source": []
  }
 ],
 "metadata": {
  "kernelspec": {
   "display_name": "Python 3 (ipykernel)",
   "language": "python",
   "name": "python3"
  },
  "language_info": {
   "codemirror_mode": {
    "name": "ipython",
    "version": 3
   },
   "file_extension": ".py",
   "mimetype": "text/x-python",
   "name": "python",
   "nbconvert_exporter": "python",
   "pygments_lexer": "ipython3",
   "version": "3.10.4"
  }
 },
 "nbformat": 4,
 "nbformat_minor": 5
}
